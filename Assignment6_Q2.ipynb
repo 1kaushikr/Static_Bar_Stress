{
  "cells": [
    {
      "cell_type": "markdown",
      "source": [
        "1. First we import all the relevant classes and libraries"
      ],
      "metadata": {
        "id": "24f6ebHvjSap"
      },
      "id": "24f6ebHvjSap"
    },
    {
      "cell_type": "code",
      "source": [
        "import numpy as np\n",
        "import torch\n",
        "import matplotlib.pyplot as plt\n",
        "from torch.autograd import grad\n",
        "dtype = torch.float\n",
        "device = torch.device(\"cpu\")"
      ],
      "metadata": {
        "id": "1bhTOsQtBHM0"
      },
      "id": "1bhTOsQtBHM0",
      "execution_count": 1,
      "outputs": []
    },
    {
      "cell_type": "markdown",
      "source": [
        "2. Analytical solution is derived for validation"
      ],
      "metadata": {
        "id": "-RcvGRwGjdLu"
      },
      "id": "-RcvGRwGjdLu"
    },
    {
      "cell_type": "code",
      "source": [
        "u_analytic = lambda x: -((x*x*x*x)/24)+((x*x*x)/12)-((x*x)/24)"
      ],
      "metadata": {
        "id": "bIaoZQrQQIut"
      },
      "execution_count": 2,
      "outputs": [],
      "id": "bIaoZQrQQIut"
    },
    {
      "cell_type": "markdown",
      "source": [
        "3. PhysicsInformedBarModel Class written"
      ],
      "metadata": {
        "id": "sv-fDEZwDGfP"
      },
      "id": "sv-fDEZwDGfP"
    },
    {
      "cell_type": "code",
      "source": [
        "class PhysicsInformedBarModel:\n",
        "    \"\"\"A class used for the definition of Physics Informed Models for one dimensional bars.\"\"\"\n",
        "\n",
        "    def __init__(self, E, I, L, u0, dist_load):\n",
        "        \"\"\"Construct a PhysicsInformedBar model\"\"\"\n",
        "\n",
        "        self.E = E\n",
        "        self.I = I\n",
        "        self.L = L\n",
        "        self.x = generate_grid_1d(L)\n",
        "        self.u0 = u0\n",
        "        self.dist_load = dist_load\n",
        "        self.model = build_model(1,[60,60,60],1)\n",
        "        self.differential_equation_loss_history = None\n",
        "        self.boundary_condition_loss_history = None\n",
        "        self.total_loss_history = None\n",
        "        self.optimizer = None\n",
        "\n",
        "    def get_displacements(self, x):\n",
        "        \"\"\"Get displacements.\"\"\"\n",
        "\n",
        "        u = self.model(x)   # predict\n",
        "\n",
        "        return u\n",
        "\n",
        "    def costFunction(self, x, u_pred):\n",
        "        \"\"\"Compute the cost function.\"\"\"\n",
        "        \n",
        "        # Differential equation loss (f)\n",
        "        st_diff =  get_derivative(u_pred, x, 1)\n",
        "        nd_diff =  get_derivative(st_diff, x, 1)\n",
        "        rd_diff = get_derivative(self.E(x)*self.I(x)*nd_diff, x, 1)\n",
        "        th_diff =  get_derivative(rd_diff, x, 1)\n",
        "        differential_equation_loss = th_diff + self.dist_load(x)\n",
        "        differential_equation_loss = torch.sum(differential_equation_loss ** 2).view(1)\n",
        "        \n",
        "        # Boundary condition loss initialization\n",
        "        boundary_condition_loss = 0\n",
        "\n",
        "        # Sum over dirichlet boundary condition losses\n",
        "        boundary_condition_loss += 10*(u_pred[0] - self.u0[0]) ** 2  #I HAVE MULTIPIED BY 10 TO GIVE MORE WEGHITAGE TO INITIAL CONDITION\n",
        "        boundary_condition_loss += 10*(u_pred[-1] - self.u0[1]) ** 2\n",
        "        boundary_condition_loss += (st_diff[0] - self.u0[2]) ** 2\n",
        "        boundary_condition_loss += (st_diff[-1] - self.u0[3]) ** 2\n",
        "\n",
        "        return differential_equation_loss, boundary_condition_loss\n",
        "\n",
        "    def closure(self):\n",
        "        \"\"\"Calculation of training error and gradient\"\"\"\n",
        "        self.optimizer.zero_grad()\n",
        "        u_pred = self.get_displacements(self.x)\n",
        "        loss = self.costFunction(self.x, u_pred)\n",
        "        loss = loss[0] + loss[1]\n",
        "        loss.backward(retain_graph=True)\n",
        "        return loss\n",
        "\n",
        "    def train(self, epochs, optimizer='Adam', **kwargs):\n",
        "        \"\"\"Train the model.\"\"\"\n",
        "\n",
        "        # Set optimizer\n",
        "        if optimizer=='Adam':\n",
        "            self.optimizer = torch.optim.Adam(self.model.parameters(), **kwargs)\n",
        "        \n",
        "        elif optimizer=='LBFGS':\n",
        "            self.optimizer = torch.optim.LBFGS(self.model.parameters(), **kwargs)\n",
        "\n",
        "        # Initialize history arrays\n",
        "        self.differential_equation_loss_history = np.zeros(epochs)\n",
        "        self.boundary_condition_loss_history = np.zeros(epochs)\n",
        "        self.total_loss_history = np.zeros(epochs)\n",
        "\n",
        "        # Training loop\n",
        "        for i in range(epochs):\n",
        "            # Predict displacements\n",
        "            u_pred = self.get_displacements(self.x)\n",
        "\n",
        "            # Cost function calculation\n",
        "            differential_equation_loss, boundary_condition_loss = self.costFunction(self.x, u_pred)\n",
        "\n",
        "            # Total loss\n",
        "            total_loss = differential_equation_loss + boundary_condition_loss\n",
        "\n",
        "            # Add energy values to history\n",
        "            self.differential_equation_loss_history[i] += differential_equation_loss\n",
        "            self.boundary_condition_loss_history[i] += boundary_condition_loss\n",
        "            self.total_loss_history[i] += total_loss\n",
        "\n",
        "            # Print training state\n",
        "            self.print_training_state(i, epochs)\n",
        "\n",
        "            # Update parameters (Neural network train)\n",
        "            self.optimizer.step(self.closure)\n",
        "\n",
        "    def print_training_state(self, epoch, epochs, print_every=100):\n",
        "        \"\"\"Print the loss values of the current epoch in a training loop.\"\"\"\n",
        "\n",
        "        if epoch == 0 or epoch == (epochs - 1) or epoch % print_every == 0 or print_every == 'all':\n",
        "            # Prepare string\n",
        "            string = \"Epoch: {}/{}\\t\\tDifferential equation loss = {:2f}\\t\\tBoundary condition loss = {:2f}\\t\\tTotal loss = {:2f}\"\n",
        "\n",
        "            # Format string and print\n",
        "            print(string.format(epoch, epochs - 1, self.differential_equation_loss_history[epoch],\n",
        "                                self.boundary_condition_loss_history[epoch], self.total_loss_history[epoch]))\n",
        "\n",
        "    def plot_training_history(self, yscale='log'):\n",
        "        \"\"\"Plot the training history.\"\"\"\n",
        "\n",
        "        # Set up plot\n",
        "        fig, ax = plt.subplots(figsize=(4,3))\n",
        "        ax.set_title(\"Cost function history\")\n",
        "        ax.set_xlabel(\"Epochs\")\n",
        "        ax.set_ylabel(\"Cost function C\")\n",
        "        plt.yscale(yscale)\n",
        "\n",
        "        # Plot data\n",
        "        ax.plot(self.total_loss_history, 'k', linewidth=2, label=\"Total cost\")\n",
        "        ax.plot(self.differential_equation_loss_history, color='silver', linestyle='--', linewidth=2, label=\"Differential equation loss\")\n",
        "        ax.plot(self.boundary_condition_loss_history, color='r', linestyle='-.', linewidth=2, label=\"Boundary condition loss\")\n",
        "        \n",
        "\n",
        "        ax.legend()\n",
        "        fig.tight_layout()\n",
        "        plt.show() "
      ],
      "metadata": {
        "id": "H4GP600lmxfG"
      },
      "id": "H4GP600lmxfG",
      "execution_count": 14,
      "outputs": []
    },
    {
      "cell_type": "markdown",
      "source": [
        "4. Code of Utilities"
      ],
      "metadata": {
        "id": "TmlhWV9MEErS"
      },
      "id": "TmlhWV9MEErS"
    },
    {
      "cell_type": "code",
      "source": [
        "def generate_grid_1d(length, samples=100, initial_coordinate=0.0):\n",
        "    \"\"\"Generate an evenly space grid of a given length and a given number of samples.\"\"\"\n",
        "\n",
        "    # Generate the grid\n",
        "    x = torch.linspace(initial_coordinate, initial_coordinate + length, samples, requires_grad=True)\n",
        "    x = x.view(samples, 1)\n",
        "    # Reshape on a column tensor and return\n",
        "    return x\n",
        "\n",
        "def trapezoidal_integration_1d(y, x):\n",
        "    \"\"\"Compute the integral of y = f(x) over the range of x using the trapezoidal rule.\"\"\"\n",
        "\n",
        "    # Compute delta x assuming it's constant over the range of x\n",
        "    dx = x[1] - x[0]\n",
        "\n",
        "    # Compute the integral with the trapezoidal rule\n",
        "    result = torch.sum(y)\n",
        "    result = result - (y[0] + y[-1]) / 2\n",
        "\n",
        "    return result * dx\n",
        "\n",
        "def get_derivative(y, x, n):  # Explain\n",
        "    \"\"\"Compute the nth order derivative of y = f(x) with respect to x.\"\"\"\n",
        "    if n == 0:\n",
        "        return y\n",
        "    else:\n",
        "        dy_dx = grad(y, x, torch.ones(x.size()[0], 1, device=device), create_graph=True, retain_graph=True)[0]\n",
        "        return get_derivative(dy_dx, x, n - 1)\n",
        "\n",
        "\n",
        "def build_model(input_dimension, hidden_dimension, output_dimension):\n",
        "    \"\"\"Build a neural network of given dimensions.\"\"\"\n",
        "\n",
        "    modules=[]\n",
        "    modules.append(torch.nn.Linear(input_dimension, hidden_dimension[0]))\n",
        "    modules.append(torch.nn.Tanh()) # Activation function\n",
        "    for i in range(len(hidden_dimension)-1):\n",
        "        modules.append(torch.nn.Linear(hidden_dimension[i], hidden_dimension[i+1]))\n",
        "        modules.append(torch.nn.Tanh())\n",
        "    \n",
        "    modules.append(torch.nn.Linear(hidden_dimension[-1], output_dimension))\n",
        "    \n",
        "    model = torch.nn.Sequential(*modules) # final whole model defn\n",
        "    return model\n",
        "\n",
        "def plot_displacements_bar(x, u, u_analytic=None):\n",
        "    \"\"\"Plot displacements.\"\"\"\n",
        "\n",
        "    # Set up plot\n",
        "    fig, ax = plt.subplots(figsize=(4,3))\n",
        "    ax.set_title(\"Displacements\")\n",
        "    ax.set_xlabel(\"x\")\n",
        "    ax.set_ylabel(\"y\")\n",
        "\n",
        "    # Plot data\n",
        "    if u_analytic != None:\n",
        "        ax.plot(x.detach().numpy(), u_analytic(x.detach().numpy()),color='r', linewidth=2, label=\"y_analytic\")\n",
        "    ax.plot(x.detach().numpy(), u.detach().numpy(),color='k',linestyle=':',linewidth=5, label=\"y_pred\")\n",
        "\n",
        "    ax.legend()\n",
        "    plt.show()\n",
        "    fig.tight_layout()\n",
        "    \n",
        "def plot_stiffness_bar(x, EI, EI_analytic=None):\n",
        "    \"\"\"Plot stiffness.\"\"\"\n",
        "    \n",
        "    # Set up plot\n",
        "    fig, ax = plt.subplots(figsize=(4,3))\n",
        "    ax.set_title(\"Stiffness\")\n",
        "    ax.set_xlabel(\"x\")\n",
        "    ax.set_ylabel(\"EI\")\n",
        "\n",
        "    # Plot data\n",
        "    ax.plot(x.detach().numpy(), EI.detach().numpy(),color='r', label=\"EI_pred\")\n",
        "    if EI_analytic != None:\n",
        "        ax.plot(x.detach().numpy(), EI_analytic(x.detach().numpy()), label=\"EI_analytic\")\n",
        "\n",
        "    ax.legend()\n",
        "    plt.show()\n",
        "    fig.tight_layout()"
      ],
      "metadata": {
        "id": "EEbR51ELnEOL"
      },
      "id": "EEbR51ELnEOL",
      "execution_count": 15,
      "outputs": []
    },
    {
      "cell_type": "markdown",
      "source": [
        "5. Problem data are defined. Here the known data like mechanical parameters, boundary condition and loading conditions are defined"
      ],
      "metadata": {
        "id": "aj1oXOV3j0oE"
      },
      "id": "aj1oXOV3j0oE"
    },
    {
      "cell_type": "code",
      "source": [
        "E = lambda x: 1\n",
        "I = lambda x: 1\n",
        "q = lambda x: 1\n",
        "L = 1\n",
        "u0 = [0,0,0,0]  # Dirichlet boundary conditions for both edges\n",
        "pinnModel = PhysicsInformedBarModel(E, I, L, u0, dist_load=q)"
      ],
      "metadata": {
        "id": "4ppF7bu2jsvd"
      },
      "id": "4ppF7bu2jsvd",
      "execution_count": 16,
      "outputs": []
    },
    {
      "cell_type": "markdown",
      "source": [
        "5. Problem data are defined. Here the known data like mechanical parameters, boundary condition and loading conditions are defined"
      ],
      "metadata": {
        "id": "Z3LH-YeqQ6LW"
      },
      "id": "Z3LH-YeqQ6LW"
    },
    {
      "cell_type": "code",
      "source": [
        "epochs = 500\n",
        "learningRate = 1e-2\n",
        "\n",
        "pinnModel.train(epochs, optimizer='LBFGS', lr=learningRate)"
      ],
      "metadata": {
        "colab": {
          "base_uri": "https://localhost:8080/"
        },
        "id": "Nklgr4CJwebW",
        "outputId": "39f7d468-26d2-473b-d5d5-a388191182df"
      },
      "id": "Nklgr4CJwebW",
      "execution_count": 18,
      "outputs": [
        {
          "output_type": "stream",
          "name": "stdout",
          "text": [
            "Epoch: 0/499\t\tDifferential equation loss = 0.567931\t\tBoundary condition loss = 0.341733\t\tTotal loss = 0.909664\n",
            "Epoch: 100/499\t\tDifferential equation loss = 0.000252\t\tBoundary condition loss = 0.002641\t\tTotal loss = 0.002893\n",
            "Epoch: 200/499\t\tDifferential equation loss = 0.000215\t\tBoundary condition loss = 0.000215\t\tTotal loss = 0.000429\n",
            "Epoch: 300/499\t\tDifferential equation loss = 0.000085\t\tBoundary condition loss = 0.000001\t\tTotal loss = 0.000086\n",
            "Epoch: 400/499\t\tDifferential equation loss = 0.000085\t\tBoundary condition loss = 0.000000\t\tTotal loss = 0.000086\n",
            "Epoch: 499/499\t\tDifferential equation loss = 0.000085\t\tBoundary condition loss = 0.000000\t\tTotal loss = 0.000086\n"
          ]
        }
      ]
    },
    {
      "cell_type": "code",
      "source": [
        "samples = 100\n",
        "x_test = generate_grid_1d(L, samples)\n",
        "y_test = pinnModel.get_displacements(x_test)"
      ],
      "metadata": {
        "id": "tdUpXT6flc5o"
      },
      "id": "tdUpXT6flc5o",
      "execution_count": 19,
      "outputs": []
    },
    {
      "cell_type": "code",
      "execution_count": 20,
      "id": "8f1125c4",
      "metadata": {
        "colab": {
          "base_uri": "https://localhost:8080/",
          "height": 449
        },
        "id": "8f1125c4",
        "outputId": "ab905c6b-5ee7-4c72-a4e2-c99c622134bd"
      },
      "outputs": [
        {
          "output_type": "display_data",
          "data": {
            "image/png": "[encoded data removed]",
            "text/plain": [
              "<Figure size 288x216 with 1 Axes>"
            ]
          },
          "metadata": {
            "needs_background": "light"
          }
        },
        {
          "output_type": "display_data",
          "data": {
            "image/png": "[encoded data removed]",
            "text/plain": [
              "<Figure size 288x216 with 1 Axes>"
            ]
          },
          "metadata": {
            "needs_background": "light"
          }
        }
      ],
      "source": [
        "plot_displacements_bar(x_test, y_test,u_analytic)\n",
        "\n",
        "pinnModel.plot_training_history()\n"
      ]
    },
    {
      "cell_type": "code",
      "source": [
        ""
      ],
      "metadata": {
        "id": "kLFSbPJmw_4h"
      },
      "id": "kLFSbPJmw_4h",
      "execution_count": null,
      "outputs": []
    }
  ],
  "metadata": {
    "kernelspec": {
      "display_name": "Python 3 (ipykernel)",
      "language": "python",
      "name": "python3"
    },
    "language_info": {
      "codemirror_mode": {
        "name": "ipython",
        "version": 3
      },
      "file_extension": ".py",
      "mimetype": "text/x-python",
      "name": "python",
      "nbconvert_exporter": "python",
      "pygments_lexer": "ipython3",
      "version": "3.8.1"
    },
    "colab": {
      "name": "Q2",
      "provenance": [],
      "collapsed_sections": []
    }
  },
  "nbformat": 4,
  "nbformat_minor": 5
}